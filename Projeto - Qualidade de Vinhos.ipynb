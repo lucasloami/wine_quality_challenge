{
 "cells": [
  {
   "cell_type": "code",
   "execution_count": 1,
   "metadata": {},
   "outputs": [
    {
     "data": {
      "text/html": [
       "<style>\n",
       ".rendered_html code {\n",
       "    padding: 2px 4px;\n",
       "    font-size: 90%;\n",
       "    color: #c7254e;\n",
       "    background-color: #f9f2f4;\n",
       "    border-radius: 4px;\n",
       "}\n",
       "\n",
       ".output_png {\n",
       "    display: table-cell;\n",
       "    text-align: center;\n",
       "    vertical-align: middle;\n",
       "}\n",
       "\n",
       ".rendered_html td {\n",
       "    text-align: left;\n",
       "}\n",
       "span.text-strike {\n",
       "    text-decoration: line-through;\n",
       "}\n",
       "span.text-red {\n",
       "    color: red;\n",
       "}\n",
       "</style>"
      ],
      "text/plain": [
       "<IPython.core.display.HTML object>"
      ]
     },
     "metadata": {},
     "output_type": "display_data"
    }
   ],
   "source": [
    "%%html \n",
    "<style>\n",
    ".rendered_html code {\n",
    "    padding: 2px 4px;\n",
    "    font-size: 90%;\n",
    "    color: #c7254e;\n",
    "    background-color: #f9f2f4;\n",
    "    border-radius: 4px;\n",
    "}\n",
    "\n",
    ".output_png {\n",
    "    display: table-cell;\n",
    "    text-align: center;\n",
    "    vertical-align: middle;\n",
    "}\n",
    "\n",
    ".rendered_html td {\n",
    "    text-align: left;\n",
    "}\n",
    "span.text-strike {\n",
    "    text-decoration: line-through;\n",
    "}\n",
    "span.text-red {\n",
    "    color: red;\n",
    "}\n",
    "</style>"
   ]
  },
  {
   "cell_type": "markdown",
   "metadata": {},
   "source": [
    "# Previsão da qualidade de vinhos\n",
    "\n",
    "Este notebook visa explorar o dataset de vinhos para compreender como cada característica dos mesmos impactam em sua qualidade. Além disso, a qualidade do vinho será prevista a partir de tais características. Para isso, usaremos técnicas de aprendizado supervisionado. Este documento é dividido da seguinte forma:\n",
    "\n",
    "* Análise exploratória dos dados\n",
    "* Análise da relação entre as variáveis\n",
    "* Pré processamento dos dados\n",
    "* Implementação e análise do modelo\n",
    "* Conclusões\n",
    "* Referências \n",
    "\n",
    "As linhas de código abaixo apenas carregam o dataset em memória e definem algumas funções úteis para esse projeto. Faremos um pequeno ajuste no nome das colunas para que sigam o padrão _snake_case_ e _lower case_ (padrão \"pythônico\")."
   ]
  },
  {
   "cell_type": "code",
   "execution_count": 2,
   "metadata": {},
   "outputs": [],
   "source": [
    "import pandas as pd\n",
    "import numpy as np\n",
    "import sys\n",
    "import math\n",
    "import matplotlib.pyplot as plt\n",
    "import re\n",
    "import seaborn as sns\n",
    "import helper\n",
    "\n",
    "from scipy.stats import chi2_contingency\n",
    "from __future__ import division\n",
    "from tmcm_feature_engineering import TMCMFeatureEng\n",
    "from sklearn.model_selection import train_test_split, ShuffleSplit, GridSearchCV\n",
    "from sklearn.feature_selection import SelectKBest, f_classif\n",
    "from sklearn import tree\n",
    "from sklearn.metrics import accuracy_score, confusion_matrix, precision_score, recall_score\n",
    "from sklearn.svm import SVC\n",
    "\n",
    "\n",
    "def slugify(c):\n",
    "    # make strnig lower case\n",
    "    c = c.lower()\n",
    "    # remove unused white spaces\n",
    "    c = c.strip()\n",
    "    # replace multiple spaces with one\n",
    "    c = re.sub('\\s+', ' ', c)\n",
    "    # replace spaces with underscore\n",
    "    c = c.replace(\" \", \"_\")\n",
    "    return(c)\n",
    "\n",
    "df = pd.read_csv(\"data/winequality.csv\", sep=\";\")\n",
    "\n",
    "rename_dict = {}\n",
    "for c in df.columns:\n",
    "    old_c = c\n",
    "    new_c = slugify(c)\n",
    "    rename_dict[old_c] = new_c\n",
    "    \n",
    "df = df.rename(columns=rename_dict)"
   ]
  },
  {
   "cell_type": "code",
   "execution_count": 3,
   "metadata": {},
   "outputs": [
    {
     "data": {
      "text/plain": [
       "type                     object\n",
       "fixed_acidity           float64\n",
       "volatile_acidity        float64\n",
       "citric_acid             float64\n",
       "residual_sugar          float64\n",
       "chlorides               float64\n",
       "free_sulfur_dioxide     float64\n",
       "total_sulfur_dioxide    float64\n",
       "density                 float64\n",
       "ph                      float64\n",
       "sulphates               float64\n",
       "alcohol                  object\n",
       "quality                   int64\n",
       "dtype: object"
      ]
     },
     "execution_count": 3,
     "metadata": {},
     "output_type": "execute_result"
    }
   ],
   "source": [
    "df.dtypes"
   ]
  },
  {
   "cell_type": "markdown",
   "metadata": {},
   "source": [
    "## Análise exploratória dos dados\n",
    "\n",
    "Nesta seção exploraremos as características básicas do dataset, não apenas suas dimensões mas também as suas variáveis. O dataset contém 6497 linhas e 13 colunas nas quais cada linha representa um vinho diferente com suas características e apresenta as seguintes colunas:\n",
    "\n",
    "* `type`: tipo do vinho (categórica)\n",
    "* `fixed acidity`: acidez fixa (numérica)\n",
    "* `volatile_acitidy`: acidez volátil (numérica)\n",
    "* `citric_acid`: quantidade de ácido cítrico (numérica)\n",
    "* `residual_sugar`: quantidade de açúcar residual (numérica)\n",
    "* `chlorides`: quantidade de cloretos (numérica)\n",
    "* `free_sulfur_dioxide`: quantidade de dióxido sulfúrico livre (numérica)\n",
    "* `total_sulfur_dioxide`: quantidade total de dióxido sulfúrico (numérica)\n",
    "* `density`: densidade do vinho (numérica)\n",
    "* `ph`: potencial de hidrogênio do vinho, ou seja, o quanto ele é ácido ou básico (numérica)\n",
    "* `sulphates`: quantiadde de sulfato no vinho (numérica)\n",
    "* `alcohol`: quantidade de álcool no vinho (numérica)\n",
    "* `quality`: qualidade do vinho (categórica)\n",
    "\n",
    "O código abaixo apresenta uma amostra dos dados sobre vinhos. É perceptível também a partir do código abaixo que todas as variáveis são 100% preenchidas com algum valor. Porém, é preciso de atentar a variável `alcohol` foi identificada pelo Pandas como `object` mas aparentemente ela deveria ser do tipo `float64` (numérica); investigaremos nas próximas seções por que isso deve estar acontencendo. "
   ]
  },
  {
   "cell_type": "code",
   "execution_count": 4,
   "metadata": {},
   "outputs": [
    {
     "data": {
      "text/html": [
       "<div>\n",
       "<style scoped>\n",
       "    .dataframe tbody tr th:only-of-type {\n",
       "        vertical-align: middle;\n",
       "    }\n",
       "\n",
       "    .dataframe tbody tr th {\n",
       "        vertical-align: top;\n",
       "    }\n",
       "\n",
       "    .dataframe thead th {\n",
       "        text-align: right;\n",
       "    }\n",
       "</style>\n",
       "<table border=\"1\" class=\"dataframe\">\n",
       "  <thead>\n",
       "    <tr style=\"text-align: right;\">\n",
       "      <th></th>\n",
       "      <th>type</th>\n",
       "      <th>fixed_acidity</th>\n",
       "      <th>volatile_acidity</th>\n",
       "      <th>citric_acid</th>\n",
       "      <th>residual_sugar</th>\n",
       "      <th>chlorides</th>\n",
       "      <th>free_sulfur_dioxide</th>\n",
       "      <th>total_sulfur_dioxide</th>\n",
       "      <th>density</th>\n",
       "      <th>ph</th>\n",
       "      <th>sulphates</th>\n",
       "      <th>alcohol</th>\n",
       "      <th>quality</th>\n",
       "    </tr>\n",
       "  </thead>\n",
       "  <tbody>\n",
       "    <tr>\n",
       "      <th>0</th>\n",
       "      <td>White</td>\n",
       "      <td>7.0</td>\n",
       "      <td>0.27</td>\n",
       "      <td>0.36</td>\n",
       "      <td>20.7</td>\n",
       "      <td>0.045</td>\n",
       "      <td>45.0</td>\n",
       "      <td>170.0</td>\n",
       "      <td>1.0010</td>\n",
       "      <td>3.00</td>\n",
       "      <td>0.45</td>\n",
       "      <td>8.8</td>\n",
       "      <td>6</td>\n",
       "    </tr>\n",
       "    <tr>\n",
       "      <th>1</th>\n",
       "      <td>White</td>\n",
       "      <td>6.3</td>\n",
       "      <td>0.30</td>\n",
       "      <td>0.34</td>\n",
       "      <td>1.6</td>\n",
       "      <td>0.049</td>\n",
       "      <td>14.0</td>\n",
       "      <td>132.0</td>\n",
       "      <td>0.9940</td>\n",
       "      <td>3.30</td>\n",
       "      <td>0.49</td>\n",
       "      <td>9.5</td>\n",
       "      <td>6</td>\n",
       "    </tr>\n",
       "    <tr>\n",
       "      <th>2</th>\n",
       "      <td>White</td>\n",
       "      <td>8.1</td>\n",
       "      <td>0.28</td>\n",
       "      <td>0.40</td>\n",
       "      <td>6.9</td>\n",
       "      <td>0.050</td>\n",
       "      <td>30.0</td>\n",
       "      <td>97.0</td>\n",
       "      <td>0.9951</td>\n",
       "      <td>3.26</td>\n",
       "      <td>0.44</td>\n",
       "      <td>10.1</td>\n",
       "      <td>6</td>\n",
       "    </tr>\n",
       "    <tr>\n",
       "      <th>3</th>\n",
       "      <td>White</td>\n",
       "      <td>7.2</td>\n",
       "      <td>0.23</td>\n",
       "      <td>0.32</td>\n",
       "      <td>8.5</td>\n",
       "      <td>0.058</td>\n",
       "      <td>47.0</td>\n",
       "      <td>186.0</td>\n",
       "      <td>0.9956</td>\n",
       "      <td>3.19</td>\n",
       "      <td>0.40</td>\n",
       "      <td>9.9</td>\n",
       "      <td>6</td>\n",
       "    </tr>\n",
       "    <tr>\n",
       "      <th>4</th>\n",
       "      <td>White</td>\n",
       "      <td>7.2</td>\n",
       "      <td>0.23</td>\n",
       "      <td>0.32</td>\n",
       "      <td>8.5</td>\n",
       "      <td>0.058</td>\n",
       "      <td>47.0</td>\n",
       "      <td>186.0</td>\n",
       "      <td>0.9956</td>\n",
       "      <td>3.19</td>\n",
       "      <td>0.40</td>\n",
       "      <td>9.9</td>\n",
       "      <td>6</td>\n",
       "    </tr>\n",
       "  </tbody>\n",
       "</table>\n",
       "</div>"
      ],
      "text/plain": [
       "    type  fixed_acidity  volatile_acidity  citric_acid  residual_sugar  \\\n",
       "0  White            7.0              0.27         0.36            20.7   \n",
       "1  White            6.3              0.30         0.34             1.6   \n",
       "2  White            8.1              0.28         0.40             6.9   \n",
       "3  White            7.2              0.23         0.32             8.5   \n",
       "4  White            7.2              0.23         0.32             8.5   \n",
       "\n",
       "   chlorides  free_sulfur_dioxide  total_sulfur_dioxide  density    ph  \\\n",
       "0      0.045                 45.0                 170.0   1.0010  3.00   \n",
       "1      0.049                 14.0                 132.0   0.9940  3.30   \n",
       "2      0.050                 30.0                  97.0   0.9951  3.26   \n",
       "3      0.058                 47.0                 186.0   0.9956  3.19   \n",
       "4      0.058                 47.0                 186.0   0.9956  3.19   \n",
       "\n",
       "   sulphates alcohol  quality  \n",
       "0       0.45     8.8        6  \n",
       "1       0.49     9.5        6  \n",
       "2       0.44    10.1        6  \n",
       "3       0.40     9.9        6  \n",
       "4       0.40     9.9        6  "
      ]
     },
     "execution_count": 4,
     "metadata": {},
     "output_type": "execute_result"
    }
   ],
   "source": [
    "df.head()"
   ]
  },
  {
   "cell_type": "code",
   "execution_count": 5,
   "metadata": {},
   "outputs": [
    {
     "name": "stdout",
     "output_type": "stream",
     "text": [
      "\n",
      "\n",
      "alcohol                   => Density of 100.00%\n",
      "chlorides                 => Density of 100.00%\n",
      "density                   => Density of 100.00%\n",
      "quality                   => Density of 100.00%\n",
      "sulphates                 => Density of 100.00%\n",
      "fixed_acidity             => Density of 100.00%\n",
      "free_sulfur_dioxide       => Density of 100.00%\n",
      "residual_sugar            => Density of 100.00%\n",
      "volatile_acidity          => Density of 100.00%\n",
      "ph                        => Density of 100.00%\n",
      "total_sulfur_dioxide      => Density of 100.00%\n",
      "type                      => Density of 100.00%\n",
      "citric_acid               => Density of 100.00%\n"
     ]
    }
   ],
   "source": [
    "def calculate_density(df):\n",
    "    sparsity_dict = {}\n",
    "    for col in df.columns:\n",
    "        sparsity_dict[col] = df[col].count()/df.shape[0]\n",
    "    return(sparsity_dict)\n",
    "\n",
    "density_dict = calculate_density(df)\n",
    "sorted_density_list = sorted(density_dict.items(), key=lambda x: x[1])\n",
    "\n",
    "print(\"\\n\")\n",
    "for l in sorted_density_list:\n",
    "    print(\"{:25} => Density of {:4.2f}%\".format(l[0], l[1]*100))"
   ]
  },
  {
   "cell_type": "markdown",
   "metadata": {},
   "source": [
    "### Explorando variável target: quality\n",
    "\n",
    "A descrição do desafio informa que a variável `quality` pode receber valores inteiros que variam entre 0 e 10. Porém, como pode ser visto no gráfico abaixo, **não existem exemplos** no dataset de vinhos com qualidade entre 0 e 2 e nem com qualidade 10. Além disso, a qualidade segue uma distribuição normal, havendo uma concentração de vinhos com qualidade 5, 6 e 6 (vinhos de certa forma medianos) e uma quantidade significativamente menor de vinhos de baixa qualidade e alta qualidade. \n",
    "\n",
    "Também é possível notar que o número de exemplos de vinhos com qualidade 3, 4, 8 e 9 é tão pequeno que pode ser muito difícil treinar qualquer algoritmo para prever essas classes. Para lidar com isso, simplificaremos o problema desse estudo para contermos apenas duas classes de vinho: _Bad_, composta pelas classes de 3 a 5 e _Good_, composta pelas classes 6 a 9. O código abaixo realiza essa atividade e depois mostra a nova divisão entre classes. É possível notar que existe uma relação de 1:2 entre as mesmas."
   ]
  },
  {
   "cell_type": "code",
   "execution_count": 5,
   "metadata": {},
   "outputs": [
    {
     "data": {
      "image/png": "[encoded data removed]",
      "text/plain": [
       "<Figure size 1080x360 with 1 Axes>"
      ]
     },
     "metadata": {
      "needs_background": "light"
     },
     "output_type": "display_data"
    }
   ],
   "source": [
    "grouped_df = df.groupby('quality').agg({'type':'count'}).reset_index()\n",
    "\n",
    "# plt.figure(figsize=(15,5))\n",
    "ax = grouped_df.plot.bar(x='quality', figsize=(15,5), alpha=0.75, rot=0, ylim=(0,3100))\n",
    "x_offset = -0.1\n",
    "y_offset = 100\n",
    "for p in ax.patches:\n",
    "    b = p.get_bbox()\n",
    "    val = \"{}\".format(int(b.y1 + b.y0))        \n",
    "    ax.annotate(val, ((b.x0 + b.x1)/2 + x_offset, b.y1 + y_offset))\n",
    "\n",
    "plt.show()"
   ]
  },
  {
   "cell_type": "code",
   "execution_count": 4,
   "metadata": {},
   "outputs": [],
   "source": [
    "df['quality_updated'] = df['quality'].apply(lambda x: \"Bad\" if x < 6 else \"Good\")\n",
    "df['quality_encoded'] = df['quality_updated'].apply(lambda x: 0 if x == \"Bad\" else 1)"
   ]
  },
  {
   "cell_type": "code",
   "execution_count": 5,
   "metadata": {},
   "outputs": [
    {
     "data": {
      "image/png": "[encoded data removed]",
      "text/plain": [
       "<Figure size 1080x360 with 1 Axes>"
      ]
     },
     "metadata": {
      "needs_background": "light"
     },
     "output_type": "display_data"
    }
   ],
   "source": [
    "grouped_df = df.groupby('quality_encoded').agg({'type':'count'}).reset_index()\n",
    "\n",
    "# plt.figure(figsize=(15,5))\n",
    "ax = grouped_df.plot.bar(x='quality_encoded', figsize=(15,5), alpha=0.75, rot=0, ylim=(0,4500))\n",
    "x_offset = -0.1\n",
    "y_offset = 100\n",
    "for p in ax.patches:\n",
    "    b = p.get_bbox()\n",
    "    val = \"{}\".format(int(b.y1 + b.y0))        \n",
    "    ax.annotate(val, ((b.x0 + b.x1)/2 + x_offset, b.y1 + y_offset))\n",
    "\n",
    "plt.show()"
   ]
  },
  {
   "cell_type": "markdown",
   "metadata": {},
   "source": [
    "### Explorando variáveis categóricas\n",
    "\n",
    "O código abaixo mostra que a variável `type` contém apenas dois valores possíveis: _White_ e _Red_. É possível notar também que 75% dos exemplos são de vinhos branco e os demais de vinho tinto. "
   ]
  },
  {
   "cell_type": "code",
   "execution_count": 6,
   "metadata": {},
   "outputs": [
    {
     "data": {
      "text/html": [
       "<div>\n",
       "<style scoped>\n",
       "    .dataframe tbody tr th:only-of-type {\n",
       "        vertical-align: middle;\n",
       "    }\n",
       "\n",
       "    .dataframe tbody tr th {\n",
       "        vertical-align: top;\n",
       "    }\n",
       "\n",
       "    .dataframe thead th {\n",
       "        text-align: right;\n",
       "    }\n",
       "</style>\n",
       "<table border=\"1\" class=\"dataframe\">\n",
       "  <thead>\n",
       "    <tr style=\"text-align: right;\">\n",
       "      <th></th>\n",
       "      <th>type</th>\n",
       "      <th>type_count</th>\n",
       "      <th>type_perc</th>\n",
       "    </tr>\n",
       "  </thead>\n",
       "  <tbody>\n",
       "    <tr>\n",
       "      <th>0</th>\n",
       "      <td>Red</td>\n",
       "      <td>1599</td>\n",
       "      <td>24.611359</td>\n",
       "    </tr>\n",
       "    <tr>\n",
       "      <th>1</th>\n",
       "      <td>White</td>\n",
       "      <td>4898</td>\n",
       "      <td>75.388641</td>\n",
       "    </tr>\n",
       "  </tbody>\n",
       "</table>\n",
       "</div>"
      ],
      "text/plain": [
       "    type  type_count  type_perc\n",
       "0    Red        1599  24.611359\n",
       "1  White        4898  75.388641"
      ]
     },
     "execution_count": 6,
     "metadata": {},
     "output_type": "execute_result"
    }
   ],
   "source": [
    "df_grouped = df.groupby('type').agg({'quality': 'count'}).reset_index().rename(columns={\"quality\": 'type_count'})\n",
    "df_grouped['type_perc'] = (df_grouped['type_count']*100/df_grouped['type_count'].sum())\n",
    "df_grouped.head()"
   ]
  },
  {
   "cell_type": "markdown",
   "metadata": {},
   "source": [
    "### Explorando variáveis numéricas\n",
    "\n",
    "O código abaixo apresenta um resumo das variáveis numéricas do dataset. É importante notar que elas não estão na mesma escala, como é o caso das variáveis `volatile_acidity`, que possui valores entre 0.08 e 1.5, e `total_sulfur_dioxide`, que possui valores entre 6.0 e 44.0. Outro ponto interessante a ser notado é que algumas variáveis parecem ter _outliers_, tais como `total_sulfur_dioxide` e `free_sulfur_dioxide`, cujos valores máximos são muito superiores ao percentil de 99% (foi feito o histograma dessas duas variávels a título de exemplo). \n",
    "\n",
    "Uma consequência interessante dessas observações é que teremos de fazer transformações nos dados para que estejam na mesma escala. Essa atividade será feita mais adiante na etapa de pré processamento dos dados. "
   ]
  },
  {
   "cell_type": "code",
   "execution_count": 16,
   "metadata": {},
   "outputs": [
    {
     "data": {
      "text/html": [
       "<div>\n",
       "<style scoped>\n",
       "    .dataframe tbody tr th:only-of-type {\n",
       "        vertical-align: middle;\n",
       "    }\n",
       "\n",
       "    .dataframe tbody tr th {\n",
       "        vertical-align: top;\n",
       "    }\n",
       "\n",
       "    .dataframe thead th {\n",
       "        text-align: right;\n",
       "    }\n",
       "</style>\n",
       "<table border=\"1\" class=\"dataframe\">\n",
       "  <thead>\n",
       "    <tr style=\"text-align: right;\">\n",
       "      <th></th>\n",
       "      <th>fixed_acidity</th>\n",
       "      <th>volatile_acidity</th>\n",
       "      <th>citric_acid</th>\n",
       "      <th>residual_sugar</th>\n",
       "      <th>chlorides</th>\n",
       "      <th>free_sulfur_dioxide</th>\n",
       "      <th>total_sulfur_dioxide</th>\n",
       "      <th>density</th>\n",
       "      <th>ph</th>\n",
       "      <th>sulphates</th>\n",
       "    </tr>\n",
       "  </thead>\n",
       "  <tbody>\n",
       "    <tr>\n",
       "      <th>count</th>\n",
       "      <td>6497.000000</td>\n",
       "      <td>6497.000000</td>\n",
       "      <td>6497.000000</td>\n",
       "      <td>6497.000000</td>\n",
       "      <td>6497.000000</td>\n",
       "      <td>6497.000000</td>\n",
       "      <td>6497.000000</td>\n",
       "      <td>6497.000000</td>\n",
       "      <td>6497.000000</td>\n",
       "      <td>6497.000000</td>\n",
       "    </tr>\n",
       "    <tr>\n",
       "      <th>mean</th>\n",
       "      <td>7.215307</td>\n",
       "      <td>0.339666</td>\n",
       "      <td>0.318633</td>\n",
       "      <td>5.443235</td>\n",
       "      <td>0.056034</td>\n",
       "      <td>30.525319</td>\n",
       "      <td>115.744574</td>\n",
       "      <td>1.710882</td>\n",
       "      <td>3.218501</td>\n",
       "      <td>0.531268</td>\n",
       "    </tr>\n",
       "    <tr>\n",
       "      <th>std</th>\n",
       "      <td>1.296434</td>\n",
       "      <td>0.164636</td>\n",
       "      <td>0.145318</td>\n",
       "      <td>4.757804</td>\n",
       "      <td>0.035034</td>\n",
       "      <td>17.749400</td>\n",
       "      <td>56.521855</td>\n",
       "      <td>7.636088</td>\n",
       "      <td>0.160787</td>\n",
       "      <td>0.148806</td>\n",
       "    </tr>\n",
       "    <tr>\n",
       "      <th>min</th>\n",
       "      <td>3.800000</td>\n",
       "      <td>0.080000</td>\n",
       "      <td>0.000000</td>\n",
       "      <td>0.600000</td>\n",
       "      <td>0.009000</td>\n",
       "      <td>1.000000</td>\n",
       "      <td>6.000000</td>\n",
       "      <td>0.987110</td>\n",
       "      <td>2.720000</td>\n",
       "      <td>0.220000</td>\n",
       "    </tr>\n",
       "    <tr>\n",
       "      <th>25%</th>\n",
       "      <td>6.400000</td>\n",
       "      <td>0.230000</td>\n",
       "      <td>0.250000</td>\n",
       "      <td>1.800000</td>\n",
       "      <td>0.038000</td>\n",
       "      <td>17.000000</td>\n",
       "      <td>77.000000</td>\n",
       "      <td>0.992340</td>\n",
       "      <td>3.110000</td>\n",
       "      <td>0.430000</td>\n",
       "    </tr>\n",
       "    <tr>\n",
       "      <th>50%</th>\n",
       "      <td>7.000000</td>\n",
       "      <td>0.290000</td>\n",
       "      <td>0.310000</td>\n",
       "      <td>3.000000</td>\n",
       "      <td>0.047000</td>\n",
       "      <td>29.000000</td>\n",
       "      <td>118.000000</td>\n",
       "      <td>0.994890</td>\n",
       "      <td>3.210000</td>\n",
       "      <td>0.510000</td>\n",
       "    </tr>\n",
       "    <tr>\n",
       "      <th>75%</th>\n",
       "      <td>7.700000</td>\n",
       "      <td>0.400000</td>\n",
       "      <td>0.390000</td>\n",
       "      <td>8.100000</td>\n",
       "      <td>0.065000</td>\n",
       "      <td>41.000000</td>\n",
       "      <td>156.000000</td>\n",
       "      <td>0.996990</td>\n",
       "      <td>3.320000</td>\n",
       "      <td>0.600000</td>\n",
       "    </tr>\n",
       "    <tr>\n",
       "      <th>99%</th>\n",
       "      <td>12.000000</td>\n",
       "      <td>0.880000</td>\n",
       "      <td>0.740000</td>\n",
       "      <td>18.200000</td>\n",
       "      <td>0.186160</td>\n",
       "      <td>77.000000</td>\n",
       "      <td>238.000000</td>\n",
       "      <td>10.008000</td>\n",
       "      <td>3.640000</td>\n",
       "      <td>0.990000</td>\n",
       "    </tr>\n",
       "    <tr>\n",
       "      <th>max</th>\n",
       "      <td>15.900000</td>\n",
       "      <td>1.580000</td>\n",
       "      <td>1.660000</td>\n",
       "      <td>65.800000</td>\n",
       "      <td>0.611000</td>\n",
       "      <td>289.000000</td>\n",
       "      <td>440.000000</td>\n",
       "      <td>103.898000</td>\n",
       "      <td>4.010000</td>\n",
       "      <td>2.000000</td>\n",
       "    </tr>\n",
       "  </tbody>\n",
       "</table>\n",
       "</div>"
      ],
      "text/plain": [
       "       fixed_acidity  volatile_acidity  citric_acid  residual_sugar  \\\n",
       "count    6497.000000       6497.000000  6497.000000     6497.000000   \n",
       "mean        7.215307          0.339666     0.318633        5.443235   \n",
       "std         1.296434          0.164636     0.145318        4.757804   \n",
       "min         3.800000          0.080000     0.000000        0.600000   \n",
       "25%         6.400000          0.230000     0.250000        1.800000   \n",
       "50%         7.000000          0.290000     0.310000        3.000000   \n",
       "75%         7.700000          0.400000     0.390000        8.100000   \n",
       "99%        12.000000          0.880000     0.740000       18.200000   \n",
       "max        15.900000          1.580000     1.660000       65.800000   \n",
       "\n",
       "         chlorides  free_sulfur_dioxide  total_sulfur_dioxide      density  \\\n",
       "count  6497.000000          6497.000000           6497.000000  6497.000000   \n",
       "mean      0.056034            30.525319            115.744574     1.710882   \n",
       "std       0.035034            17.749400             56.521855     7.636088   \n",
       "min       0.009000             1.000000              6.000000     0.987110   \n",
       "25%       0.038000            17.000000             77.000000     0.992340   \n",
       "50%       0.047000            29.000000            118.000000     0.994890   \n",
       "75%       0.065000            41.000000            156.000000     0.996990   \n",
       "99%       0.186160            77.000000            238.000000    10.008000   \n",
       "max       0.611000           289.000000            440.000000   103.898000   \n",
       "\n",
       "                ph    sulphates  \n",
       "count  6497.000000  6497.000000  \n",
       "mean      3.218501     0.531268  \n",
       "std       0.160787     0.148806  \n",
       "min       2.720000     0.220000  \n",
       "25%       3.110000     0.430000  \n",
       "50%       3.210000     0.510000  \n",
       "75%       3.320000     0.600000  \n",
       "99%       3.640000     0.990000  \n",
       "max       4.010000     2.000000  "
      ]
     },
     "execution_count": 16,
     "metadata": {},
     "output_type": "execute_result"
    }
   ],
   "source": [
    "numeric_cols = [\"fixed_acidity\", \"volatile_acidity\", \"citric_acid\", \"residual_sugar\", \"chlorides\", \n",
    "                \"free_sulfur_dioxide\", \"total_sulfur_dioxide\", \"density\", \"ph\", \"sulphates\"]\n",
    "\n",
    "df[numeric_cols].describe(percentiles=[.25, .5, .75, .99])"
   ]
  },
  {
   "cell_type": "code",
   "execution_count": 33,
   "metadata": {},
   "outputs": [
    {
     "data": {
      "image/png": "[encoded data removed]",
      "text/plain": [
       "<Figure size 1080x360 with 2 Axes>"
      ]
     },
     "metadata": {
      "needs_background": "light"
     },
     "output_type": "display_data"
    }
   ],
   "source": [
    "fig, axes = plt.subplots(nrows=1, ncols=2, figsize=(15,5))\n",
    "\n",
    "df['free_sulfur_dioxide'].hist(alpha=.5, ax=axes[0])\n",
    "axes[0].set_title('Histograma - Dioxido Sulfurico Livre')\n",
    "df['total_sulfur_dioxide'].hist(alpha=.5, ax=axes[1])\n",
    "axes[1].set_title('Histograma - Total de Dioxido Sulfurico')\n",
    "plt.show()"
   ]
  },
  {
   "cell_type": "markdown",
   "metadata": {},
   "source": [
    "### O caso da variável alcohol\n",
    "\n",
    "Como citado anteriormente, a variável `alcohol` foi identificada pelo Pandas como `object` porém ela deveria ser `float64` (numérica). O código abaixo mostra que existem alguns valores anômalos no dataset, provavelmente advindos de medições inadequadas. Também é possível notar que os exemplos com dados equivocados correspondem a apenas 0,6% do todo. Para lidar com essa situação, iremos remover as linhas em que `alcohol_numeric == NaN`. "
   ]
  },
  {
   "cell_type": "code",
   "execution_count": 5,
   "metadata": {},
   "outputs": [],
   "source": [
    "df['alcohol_numeric'] = pd.to_numeric(df['alcohol'], errors='coerce')"
   ]
  },
  {
   "cell_type": "code",
   "execution_count": 6,
   "metadata": {},
   "outputs": [
    {
     "data": {
      "text/html": [
       "<div>\n",
       "<style scoped>\n",
       "    .dataframe tbody tr th:only-of-type {\n",
       "        vertical-align: middle;\n",
       "    }\n",
       "\n",
       "    .dataframe tbody tr th {\n",
       "        vertical-align: top;\n",
       "    }\n",
       "\n",
       "    .dataframe thead th {\n",
       "        text-align: right;\n",
       "    }\n",
       "</style>\n",
       "<table border=\"1\" class=\"dataframe\">\n",
       "  <thead>\n",
       "    <tr style=\"text-align: right;\">\n",
       "      <th></th>\n",
       "      <th>alcohol</th>\n",
       "      <th>alcohol_numeric</th>\n",
       "    </tr>\n",
       "  </thead>\n",
       "  <tbody>\n",
       "    <tr>\n",
       "      <th>4315</th>\n",
       "      <td>128.933.333.333.333</td>\n",
       "      <td>NaN</td>\n",
       "    </tr>\n",
       "    <tr>\n",
       "      <th>4319</th>\n",
       "      <td>128.933.333.333.333</td>\n",
       "      <td>NaN</td>\n",
       "    </tr>\n",
       "    <tr>\n",
       "      <th>4323</th>\n",
       "      <td>114.666.666.666.667</td>\n",
       "      <td>NaN</td>\n",
       "    </tr>\n",
       "    <tr>\n",
       "      <th>4341</th>\n",
       "      <td>100.333.333.333.333</td>\n",
       "      <td>NaN</td>\n",
       "    </tr>\n",
       "    <tr>\n",
       "      <th>4353</th>\n",
       "      <td>114.333.333.333.333</td>\n",
       "      <td>NaN</td>\n",
       "    </tr>\n",
       "    <tr>\n",
       "      <th>4356</th>\n",
       "      <td>105.333.333.333.333</td>\n",
       "      <td>NaN</td>\n",
       "    </tr>\n",
       "    <tr>\n",
       "      <th>4358</th>\n",
       "      <td>953.333.333.333.333</td>\n",
       "      <td>NaN</td>\n",
       "    </tr>\n",
       "    <tr>\n",
       "      <th>4364</th>\n",
       "      <td>109.333.333.333.333</td>\n",
       "      <td>NaN</td>\n",
       "    </tr>\n",
       "    <tr>\n",
       "      <th>4369</th>\n",
       "      <td>109.333.333.333.333</td>\n",
       "      <td>NaN</td>\n",
       "    </tr>\n",
       "    <tr>\n",
       "      <th>4372</th>\n",
       "      <td>113.666.666.666.667</td>\n",
       "      <td>NaN</td>\n",
       "    </tr>\n",
       "  </tbody>\n",
       "</table>\n",
       "</div>"
      ],
      "text/plain": [
       "                  alcohol  alcohol_numeric\n",
       "4315  128.933.333.333.333              NaN\n",
       "4319  128.933.333.333.333              NaN\n",
       "4323  114.666.666.666.667              NaN\n",
       "4341  100.333.333.333.333              NaN\n",
       "4353  114.333.333.333.333              NaN\n",
       "4356  105.333.333.333.333              NaN\n",
       "4358  953.333.333.333.333              NaN\n",
       "4364  109.333.333.333.333              NaN\n",
       "4369  109.333.333.333.333              NaN\n",
       "4372  113.666.666.666.667              NaN"
      ]
     },
     "execution_count": 6,
     "metadata": {},
     "output_type": "execute_result"
    }
   ],
   "source": [
    "df.loc[df['alcohol_numeric'].isnull(), ['alcohol', 'alcohol_numeric']].head(10)"
   ]
  },
  {
   "cell_type": "code",
   "execution_count": 7,
   "metadata": {},
   "outputs": [
    {
     "data": {
      "text/html": [
       "<div>\n",
       "<style scoped>\n",
       "    .dataframe tbody tr th:only-of-type {\n",
       "        vertical-align: middle;\n",
       "    }\n",
       "\n",
       "    .dataframe tbody tr th {\n",
       "        vertical-align: top;\n",
       "    }\n",
       "\n",
       "    .dataframe thead th {\n",
       "        text-align: right;\n",
       "    }\n",
       "</style>\n",
       "<table border=\"1\" class=\"dataframe\">\n",
       "  <thead>\n",
       "    <tr style=\"text-align: right;\">\n",
       "      <th></th>\n",
       "      <th>alcohol</th>\n",
       "      <th>alcohol_numeric</th>\n",
       "    </tr>\n",
       "  </thead>\n",
       "  <tbody>\n",
       "    <tr>\n",
       "      <th>0</th>\n",
       "      <td>8.8</td>\n",
       "      <td>8.8</td>\n",
       "    </tr>\n",
       "    <tr>\n",
       "      <th>1</th>\n",
       "      <td>9.5</td>\n",
       "      <td>9.5</td>\n",
       "    </tr>\n",
       "    <tr>\n",
       "      <th>2</th>\n",
       "      <td>10.1</td>\n",
       "      <td>10.1</td>\n",
       "    </tr>\n",
       "    <tr>\n",
       "      <th>3</th>\n",
       "      <td>9.9</td>\n",
       "      <td>9.9</td>\n",
       "    </tr>\n",
       "    <tr>\n",
       "      <th>4</th>\n",
       "      <td>9.9</td>\n",
       "      <td>9.9</td>\n",
       "    </tr>\n",
       "  </tbody>\n",
       "</table>\n",
       "</div>"
      ],
      "text/plain": [
       "  alcohol  alcohol_numeric\n",
       "0     8.8              8.8\n",
       "1     9.5              9.5\n",
       "2    10.1             10.1\n",
       "3     9.9              9.9\n",
       "4     9.9              9.9"
      ]
     },
     "execution_count": 7,
     "metadata": {},
     "output_type": "execute_result"
    }
   ],
   "source": [
    "df.loc[df['alcohol_numeric'].notnull(), ['alcohol', 'alcohol_numeric']].head()"
   ]
  },
  {
   "cell_type": "code",
   "execution_count": 8,
   "metadata": {},
   "outputs": [
    {
     "name": "stdout",
     "output_type": "stream",
     "text": [
      "Apenas 0.615669% das linhas contem dados inadequados de teor alcoolico\n"
     ]
    }
   ],
   "source": [
    "errors_count = (df[df['alcohol_numeric'].isnull()].shape[0]*100)/df.shape[0]\n",
    "\n",
    "print(\"Apenas {:2f}% das linhas contem dados inadequados de teor alcoolico\".format(errors_count))"
   ]
  },
  {
   "cell_type": "code",
   "execution_count": 9,
   "metadata": {},
   "outputs": [],
   "source": [
    "df = df[df['alcohol_numeric'].notnull()]"
   ]
  },
  {
   "cell_type": "markdown",
   "metadata": {},
   "source": [
    "## Relação entre as variáveis\n",
    "\n",
    "Nesta seção vamos identificar como as variáveis preditoras se relacionam com a variável de destino (`quality`). Usaremos algns testes estatísticos para isso. Como `quality` é categórica, precisamos utilizar técnicas adequadas para este cenário: aplicaremos o teste Chi quadrado para variáveis categóricas e correlação de Spearman para as variáveis numéricas."
   ]
  },
  {
   "cell_type": "markdown",
   "metadata": {},
   "source": [
    "### Correlação para variáveis categóricas\n",
    "\n",
    "O teste de independência do chi quadrado avalia de suas variáveis categóricas são relacionadas em uma população. Sua hipótese nula é de que as duas variáveis são independentes. Vamos aplicar o teste para as variáveis `type` e `quality_encoded` e usar o nível de significância de 0.05. É possível observar uma explicação básica deste neste em [[1]](#references)\n",
    "\n",
    "Como pode ser visto no código abaixo, o p-value do teste é $3,99 \\times 10^{-21}$, o que significa que devemos rejeitar a hipótese nula de que a variável `type_encoded` é independente da variável `quality_encoded`. Isso é um indicativo de que devemos manter a variável `type_encoded` no modelo."
   ]
  },
  {
   "cell_type": "code",
   "execution_count": 10,
   "metadata": {},
   "outputs": [],
   "source": [
    "def chisq_of_df_cols(df, c1, c2):\n",
    "    groupsizes = df.groupby([c1, c2]).size()\n",
    "    ctsum = groupsizes.unstack(c1)\n",
    "    # fillna(0) is necessary to remove any NAs which will cause exceptions\n",
    "    return(chi2_contingency(ctsum.fillna(0)))"
   ]
  },
  {
   "cell_type": "code",
   "execution_count": 11,
   "metadata": {},
   "outputs": [],
   "source": [
    "df['type_encoded'] = df['type'].apply(lambda x: 1 if x == \"Red\" else 2)"
   ]
  },
  {
   "cell_type": "code",
   "execution_count": 12,
   "metadata": {},
   "outputs": [
    {
     "name": "stdout",
     "output_type": "stream",
     "text": [
      "p-value is: 3.99662160315e-21\n"
     ]
    }
   ],
   "source": [
    "chi2, p_value, dof, expected =  chisq_of_df_cols(df, 'type_encoded', 'quality_encoded')\n",
    "\n",
    "print(\"p-value is: {}\".format(p_value))"
   ]
  },
  {
   "cell_type": "markdown",
   "metadata": {},
   "source": [
    "### Correlação para variáveis numéricas\n",
    "\n",
    "Diferente da correlação de Pearson, adequada para comparação entre duas variáveis contínuas e com uma relação linear, a correlação de Spearman é adequada para variáveis ordinais e contínuas e avalia com que intensidade a relação entre duas variáveis pode ser descrita pelo uso de uma função monótona [[2]](#references). É possível observar uma explicação básica deste neste em [[3]](#references). \n",
    "\n",
    "O código abaixo cria uma matriz de correlação entre todas as variáveis numéricas e a variável output do dataset. A parte importante a ser observada é a última linha, que contém a correlação entre `quality_encoded` e todas as demais variáveis. Nela é possível notar alguns pontos:\n",
    "\n",
    "* A variável álcool (`alcohol_numeric`) tem a maior correlação com `quality`. Densidade (`density`), cloretos (`chlorides`) e acidez volátil (`volatile_acidity`) também possuem correlação alta com `quality_encoded` porém são negativas, o que indica que são inversamente proporcionais\n",
    "* A variável açúcar residual (`residual_sugar`) tem a menor correlação e ela também é negativa, o que indica que as variáveis são inversamente proporcionais. O açúcar residual também é a variável que tem correlação mais próxima de zero entre todas, o que é um indicativo de que podemos retirá-la do modelo que criaremos. \n",
    "* As variáveis que tem relação com dióxido sulfúrico, `free_sulfur_dioxide` e `total_sulfur_dioxide`, tem correlações baixas e de sinal oposto. Elas também são a segunda e terceira menores correlações, o que indica que também podemos retirá-las do modelo que criaremos. "
   ]
  },
  {
   "cell_type": "code",
   "execution_count": 14,
   "metadata": {},
   "outputs": [
    {
     "data": {
      "image/png": "[encoded data removed]",
      "text/plain": [
       "<Figure size 1152x360 with 2 Axes>"
      ]
     },
     "metadata": {
      "needs_background": "light"
     },
     "output_type": "display_data"
    }
   ],
   "source": [
    "numeric_cols = [\"fixed_acidity\", \"volatile_acidity\", \"citric_acid\", \"residual_sugar\", \"chlorides\", \n",
    "                \"free_sulfur_dioxide\", \"total_sulfur_dioxide\", \"density\", \"ph\", \"sulphates\", \"alcohol_numeric\"]\n",
    "output_col = [\"quality_encoded\"]\n",
    "\n",
    "plt.figure(figsize=(16,5))\n",
    "corr = df[numeric_cols+output_col].corr(method=\"spearman\")\n",
    "# Generate a mask for the upper triangle\n",
    "mask = np.zeros_like(corr, dtype=np.bool)\n",
    "mask[np.triu_indices_from(mask)] = True\n",
    "sns.heatmap(corr, mask=mask,\n",
    "            xticklabels=corr.columns.values,\n",
    "            yticklabels=corr.columns.values,\n",
    "           annot=True, fmt= '.3f')\n",
    "plt.show()"
   ]
  },
  {
   "cell_type": "markdown",
   "metadata": {},
   "source": [
    "## Pré processamento dos dados\n",
    "\n",
    "A partir das observações expostas na seção de análise exploratória dos dados nota-se que as variáveis numéricas estão em escalas diferentes, o que pode impactar no resultado dos modelos a ser criados. O código abaixo faz a normalização dos dados (mesmo procedimento do _Standard Scaler_ [[4]](#references) do sklearn). \n",
    "\n",
    "Outra atividade de pré-processamento que seria necessário é a transformação da variável `type` de string para número e, porém isso já foi realizado acima (criou-se a variável `type_encoded`). "
   ]
  },
  {
   "cell_type": "code",
   "execution_count": 13,
   "metadata": {},
   "outputs": [],
   "source": [
    "suffix = \"_scaled\"\n",
    "numeric_cols = [\"fixed_acidity\", \"volatile_acidity\", \"citric_acid\", \"residual_sugar\", \"chlorides\", \n",
    "                \"free_sulfur_dioxide\", \"total_sulfur_dioxide\", \"density\", \"ph\", \"sulphates\", \"alcohol_numeric\"]\n",
    "\n",
    "for col in numeric_cols:\n",
    "    df[col+suffix] = (df[col]-df[col].mean())/df[col].std()"
   ]
  },
  {
   "cell_type": "code",
   "execution_count": 14,
   "metadata": {},
   "outputs": [
    {
     "data": {
      "text/html": [
       "<div>\n",
       "<style scoped>\n",
       "    .dataframe tbody tr th:only-of-type {\n",
       "        vertical-align: middle;\n",
       "    }\n",
       "\n",
       "    .dataframe tbody tr th {\n",
       "        vertical-align: top;\n",
       "    }\n",
       "\n",
       "    .dataframe thead th {\n",
       "        text-align: right;\n",
       "    }\n",
       "</style>\n",
       "<table border=\"1\" class=\"dataframe\">\n",
       "  <thead>\n",
       "    <tr style=\"text-align: right;\">\n",
       "      <th></th>\n",
       "      <th>fixed_acidity_scaled</th>\n",
       "      <th>volatile_acidity_scaled</th>\n",
       "      <th>citric_acid_scaled</th>\n",
       "      <th>residual_sugar_scaled</th>\n",
       "      <th>chlorides_scaled</th>\n",
       "      <th>free_sulfur_dioxide_scaled</th>\n",
       "      <th>total_sulfur_dioxide_scaled</th>\n",
       "      <th>density_scaled</th>\n",
       "      <th>ph_scaled</th>\n",
       "      <th>sulphates_scaled</th>\n",
       "      <th>alcohol_numeric_scaled</th>\n",
       "    </tr>\n",
       "  </thead>\n",
       "  <tbody>\n",
       "    <tr>\n",
       "      <th>0</th>\n",
       "      <td>-0.169490</td>\n",
       "      <td>-0.423124</td>\n",
       "      <td>0.283184</td>\n",
       "      <td>3.201730</td>\n",
       "      <td>-0.315616</td>\n",
       "      <td>0.816828</td>\n",
       "      <td>0.959608</td>\n",
       "      <td>-0.093261</td>\n",
       "      <td>-1.359021</td>\n",
       "      <td>-0.545236</td>\n",
       "      <td>-1.415875</td>\n",
       "    </tr>\n",
       "    <tr>\n",
       "      <th>1</th>\n",
       "      <td>-0.710068</td>\n",
       "      <td>-0.240963</td>\n",
       "      <td>0.145733</td>\n",
       "      <td>-0.807247</td>\n",
       "      <td>-0.201689</td>\n",
       "      <td>-0.928962</td>\n",
       "      <td>0.288173</td>\n",
       "      <td>-0.094174</td>\n",
       "      <td>0.506124</td>\n",
       "      <td>-0.276545</td>\n",
       "      <td>-0.829100</td>\n",
       "    </tr>\n",
       "    <tr>\n",
       "      <th>2</th>\n",
       "      <td>0.679989</td>\n",
       "      <td>-0.362403</td>\n",
       "      <td>0.558088</td>\n",
       "      <td>0.305192</td>\n",
       "      <td>-0.173207</td>\n",
       "      <td>-0.027909</td>\n",
       "      <td>-0.330254</td>\n",
       "      <td>-0.094031</td>\n",
       "      <td>0.257438</td>\n",
       "      <td>-0.612408</td>\n",
       "      <td>-0.326149</td>\n",
       "    </tr>\n",
       "    <tr>\n",
       "      <th>3</th>\n",
       "      <td>-0.015040</td>\n",
       "      <td>-0.666005</td>\n",
       "      <td>0.008281</td>\n",
       "      <td>0.641022</td>\n",
       "      <td>0.054648</td>\n",
       "      <td>0.929459</td>\n",
       "      <td>1.242317</td>\n",
       "      <td>-0.093966</td>\n",
       "      <td>-0.177762</td>\n",
       "      <td>-0.881099</td>\n",
       "      <td>-0.493799</td>\n",
       "    </tr>\n",
       "    <tr>\n",
       "      <th>4</th>\n",
       "      <td>-0.015040</td>\n",
       "      <td>-0.666005</td>\n",
       "      <td>0.008281</td>\n",
       "      <td>0.641022</td>\n",
       "      <td>0.054648</td>\n",
       "      <td>0.929459</td>\n",
       "      <td>1.242317</td>\n",
       "      <td>-0.093966</td>\n",
       "      <td>-0.177762</td>\n",
       "      <td>-0.881099</td>\n",
       "      <td>-0.493799</td>\n",
       "    </tr>\n",
       "  </tbody>\n",
       "</table>\n",
       "</div>"
      ],
      "text/plain": [
       "   fixed_acidity_scaled  volatile_acidity_scaled  citric_acid_scaled  \\\n",
       "0             -0.169490                -0.423124            0.283184   \n",
       "1             -0.710068                -0.240963            0.145733   \n",
       "2              0.679989                -0.362403            0.558088   \n",
       "3             -0.015040                -0.666005            0.008281   \n",
       "4             -0.015040                -0.666005            0.008281   \n",
       "\n",
       "   residual_sugar_scaled  chlorides_scaled  free_sulfur_dioxide_scaled  \\\n",
       "0               3.201730         -0.315616                    0.816828   \n",
       "1              -0.807247         -0.201689                   -0.928962   \n",
       "2               0.305192         -0.173207                   -0.027909   \n",
       "3               0.641022          0.054648                    0.929459   \n",
       "4               0.641022          0.054648                    0.929459   \n",
       "\n",
       "   total_sulfur_dioxide_scaled  density_scaled  ph_scaled  sulphates_scaled  \\\n",
       "0                     0.959608       -0.093261  -1.359021         -0.545236   \n",
       "1                     0.288173       -0.094174   0.506124         -0.276545   \n",
       "2                    -0.330254       -0.094031   0.257438         -0.612408   \n",
       "3                     1.242317       -0.093966  -0.177762         -0.881099   \n",
       "4                     1.242317       -0.093966  -0.177762         -0.881099   \n",
       "\n",
       "   alcohol_numeric_scaled  \n",
       "0               -1.415875  \n",
       "1               -0.829100  \n",
       "2               -0.326149  \n",
       "3               -0.493799  \n",
       "4               -0.493799  "
      ]
     },
     "execution_count": 14,
     "metadata": {},
     "output_type": "execute_result"
    }
   ],
   "source": [
    "df[[c for c in df.columns if \"_scaled\" in c]].head()"
   ]
  },
  {
   "cell_type": "markdown",
   "metadata": {},
   "source": [
    "### Ponto de atenção com a variável categórica\n",
    "\n",
    "Ao utilizar implementações computacionais dos algoritmos de classificação, temos que transformar as variáveis categóricas que estão em formato de string para um valor numérico. Porém, é difícil encontrar um valor numérico que possa representá adequadamente essas variáveis no dataset. Por exemplo, quando criamos a coluna `type_encoded` acima, atribuímos o valor `1` para vinho tinto e `2` para vinho branco, mas isso não significa que esses números tenham algum tipo de \"representação de valor\", ou seja, não temos como dizer que `1` está próximo de \"vinho tinho\". \n",
    "Para lidar com essa questão, vamos listar duas opções sugeridas na literatura científica:\n",
    "\n",
    "* **1-of-K Coding**: consiste em transformar todas as variáveis categóricas em dummy vars. Esse método, apesar de ter resultados satisfatórios, aumenta drasticamente o número de variáveis presentes no dataset o que pode prejudicar a performance do algoritmo e também gerar overfitting. É possível ver uma descrição da técnica em [[5]](#references) (o artigo fala de _clustering_, mas a técnica pode ser usada em situações de aprendizado supervisionado também).\n",
    "* **Two-step Method for Clustering Mixed numeric and categorical data (TMCM)** [[6]](#references): o algoritmo foi desenvolvido para conseguir lidar com variáveis categóricas e numéricas simultaneamente na clusterização. Ele é dividido em duas etapas principais: a primeira é a manipulação de variáveis categóricas de acordo com a teoria de co-ocorrência, que analisa o relacionamento entre as variáveis categóricas e gera um valor numérico razoável (e não binário) para elas; a segunda consiste na aplicação do K-means em duas etapas. Nesse estudo, foi feita a implementação da primeira etapa do algoritmo e o código pode ser encontrado no arquivo `tmcm_feature_engineering.py`. "
   ]
  },
  {
   "cell_type": "code",
   "execution_count": 15,
   "metadata": {},
   "outputs": [],
   "source": [
    "suffix = \"_scaled\"\n",
    "numeric_cols = [\"fixed_acidity\", \"volatile_acidity\", \"citric_acid\", \"residual_sugar\", \"chlorides\", \n",
    "                \"free_sulfur_dioxide\", \"total_sulfur_dioxide\", \"density\", \"ph\", \"sulphates\", \"alcohol_numeric\"]\n",
    "numeric_cols = [c+suffix for c in numeric_cols]\n",
    "categorical_cols = ['type']\n",
    "\n",
    "obj = TMCMFeatureEng(df=df, categ_cols=categorical_cols, numeric_cols=numeric_cols)\n",
    "df = obj.transform()"
   ]
  },
  {
   "cell_type": "code",
   "execution_count": 16,
   "metadata": {},
   "outputs": [
    {
     "data": {
      "text/html": [
       "<div>\n",
       "<style scoped>\n",
       "    .dataframe tbody tr th:only-of-type {\n",
       "        vertical-align: middle;\n",
       "    }\n",
       "\n",
       "    .dataframe tbody tr th {\n",
       "        vertical-align: top;\n",
       "    }\n",
       "\n",
       "    .dataframe thead th {\n",
       "        text-align: right;\n",
       "    }\n",
       "</style>\n",
       "<table border=\"1\" class=\"dataframe\">\n",
       "  <thead>\n",
       "    <tr style=\"text-align: right;\">\n",
       "      <th></th>\n",
       "      <th>type</th>\n",
       "      <th>fixed_acidity</th>\n",
       "      <th>volatile_acidity</th>\n",
       "      <th>citric_acid</th>\n",
       "      <th>residual_sugar</th>\n",
       "      <th>chlorides</th>\n",
       "      <th>free_sulfur_dioxide</th>\n",
       "      <th>total_sulfur_dioxide</th>\n",
       "      <th>density</th>\n",
       "      <th>ph</th>\n",
       "      <th>...</th>\n",
       "      <th>citric_acid_scaled</th>\n",
       "      <th>residual_sugar_scaled</th>\n",
       "      <th>chlorides_scaled</th>\n",
       "      <th>free_sulfur_dioxide_scaled</th>\n",
       "      <th>total_sulfur_dioxide_scaled</th>\n",
       "      <th>density_scaled</th>\n",
       "      <th>ph_scaled</th>\n",
       "      <th>sulphates_scaled</th>\n",
       "      <th>alcohol_numeric_scaled</th>\n",
       "      <th>type_tmcm</th>\n",
       "    </tr>\n",
       "  </thead>\n",
       "  <tbody>\n",
       "    <tr>\n",
       "      <th>0</th>\n",
       "      <td>White</td>\n",
       "      <td>7.0</td>\n",
       "      <td>0.27</td>\n",
       "      <td>0.36</td>\n",
       "      <td>20.7</td>\n",
       "      <td>0.045</td>\n",
       "      <td>45.0</td>\n",
       "      <td>170.0</td>\n",
       "      <td>1.0010</td>\n",
       "      <td>3.00</td>\n",
       "      <td>...</td>\n",
       "      <td>0.283184</td>\n",
       "      <td>3.201730</td>\n",
       "      <td>-0.315616</td>\n",
       "      <td>0.816828</td>\n",
       "      <td>0.959608</td>\n",
       "      <td>-0.093261</td>\n",
       "      <td>-1.359021</td>\n",
       "      <td>-0.545236</td>\n",
       "      <td>-1.415875</td>\n",
       "      <td>0.401024</td>\n",
       "    </tr>\n",
       "    <tr>\n",
       "      <th>1</th>\n",
       "      <td>White</td>\n",
       "      <td>6.3</td>\n",
       "      <td>0.30</td>\n",
       "      <td>0.34</td>\n",
       "      <td>1.6</td>\n",
       "      <td>0.049</td>\n",
       "      <td>14.0</td>\n",
       "      <td>132.0</td>\n",
       "      <td>0.9940</td>\n",
       "      <td>3.30</td>\n",
       "      <td>...</td>\n",
       "      <td>0.145733</td>\n",
       "      <td>-0.807247</td>\n",
       "      <td>-0.201689</td>\n",
       "      <td>-0.928962</td>\n",
       "      <td>0.288173</td>\n",
       "      <td>-0.094174</td>\n",
       "      <td>0.506124</td>\n",
       "      <td>-0.276545</td>\n",
       "      <td>-0.829100</td>\n",
       "      <td>0.401024</td>\n",
       "    </tr>\n",
       "    <tr>\n",
       "      <th>2</th>\n",
       "      <td>White</td>\n",
       "      <td>8.1</td>\n",
       "      <td>0.28</td>\n",
       "      <td>0.40</td>\n",
       "      <td>6.9</td>\n",
       "      <td>0.050</td>\n",
       "      <td>30.0</td>\n",
       "      <td>97.0</td>\n",
       "      <td>0.9951</td>\n",
       "      <td>3.26</td>\n",
       "      <td>...</td>\n",
       "      <td>0.558088</td>\n",
       "      <td>0.305192</td>\n",
       "      <td>-0.173207</td>\n",
       "      <td>-0.027909</td>\n",
       "      <td>-0.330254</td>\n",
       "      <td>-0.094031</td>\n",
       "      <td>0.257438</td>\n",
       "      <td>-0.612408</td>\n",
       "      <td>-0.326149</td>\n",
       "      <td>0.401024</td>\n",
       "    </tr>\n",
       "    <tr>\n",
       "      <th>3</th>\n",
       "      <td>White</td>\n",
       "      <td>7.2</td>\n",
       "      <td>0.23</td>\n",
       "      <td>0.32</td>\n",
       "      <td>8.5</td>\n",
       "      <td>0.058</td>\n",
       "      <td>47.0</td>\n",
       "      <td>186.0</td>\n",
       "      <td>0.9956</td>\n",
       "      <td>3.19</td>\n",
       "      <td>...</td>\n",
       "      <td>0.008281</td>\n",
       "      <td>0.641022</td>\n",
       "      <td>0.054648</td>\n",
       "      <td>0.929459</td>\n",
       "      <td>1.242317</td>\n",
       "      <td>-0.093966</td>\n",
       "      <td>-0.177762</td>\n",
       "      <td>-0.881099</td>\n",
       "      <td>-0.493799</td>\n",
       "      <td>0.401024</td>\n",
       "    </tr>\n",
       "    <tr>\n",
       "      <th>4</th>\n",
       "      <td>White</td>\n",
       "      <td>7.2</td>\n",
       "      <td>0.23</td>\n",
       "      <td>0.32</td>\n",
       "      <td>8.5</td>\n",
       "      <td>0.058</td>\n",
       "      <td>47.0</td>\n",
       "      <td>186.0</td>\n",
       "      <td>0.9956</td>\n",
       "      <td>3.19</td>\n",
       "      <td>...</td>\n",
       "      <td>0.008281</td>\n",
       "      <td>0.641022</td>\n",
       "      <td>0.054648</td>\n",
       "      <td>0.929459</td>\n",
       "      <td>1.242317</td>\n",
       "      <td>-0.093966</td>\n",
       "      <td>-0.177762</td>\n",
       "      <td>-0.881099</td>\n",
       "      <td>-0.493799</td>\n",
       "      <td>0.401024</td>\n",
       "    </tr>\n",
       "  </tbody>\n",
       "</table>\n",
       "<p>5 rows × 29 columns</p>\n",
       "</div>"
      ],
      "text/plain": [
       "    type  fixed_acidity  volatile_acidity  citric_acid  residual_sugar  \\\n",
       "0  White            7.0              0.27         0.36            20.7   \n",
       "1  White            6.3              0.30         0.34             1.6   \n",
       "2  White            8.1              0.28         0.40             6.9   \n",
       "3  White            7.2              0.23         0.32             8.5   \n",
       "4  White            7.2              0.23         0.32             8.5   \n",
       "\n",
       "   chlorides  free_sulfur_dioxide  total_sulfur_dioxide  density    ph  ...  \\\n",
       "0      0.045                 45.0                 170.0   1.0010  3.00  ...   \n",
       "1      0.049                 14.0                 132.0   0.9940  3.30  ...   \n",
       "2      0.050                 30.0                  97.0   0.9951  3.26  ...   \n",
       "3      0.058                 47.0                 186.0   0.9956  3.19  ...   \n",
       "4      0.058                 47.0                 186.0   0.9956  3.19  ...   \n",
       "\n",
       "   citric_acid_scaled residual_sugar_scaled  chlorides_scaled  \\\n",
       "0            0.283184              3.201730         -0.315616   \n",
       "1            0.145733             -0.807247         -0.201689   \n",
       "2            0.558088              0.305192         -0.173207   \n",
       "3            0.008281              0.641022          0.054648   \n",
       "4            0.008281              0.641022          0.054648   \n",
       "\n",
       "  free_sulfur_dioxide_scaled  total_sulfur_dioxide_scaled  density_scaled  \\\n",
       "0                   0.816828                     0.959608       -0.093261   \n",
       "1                  -0.928962                     0.288173       -0.094174   \n",
       "2                  -0.027909                    -0.330254       -0.094031   \n",
       "3                   0.929459                     1.242317       -0.093966   \n",
       "4                   0.929459                     1.242317       -0.093966   \n",
       "\n",
       "   ph_scaled  sulphates_scaled  alcohol_numeric_scaled  type_tmcm  \n",
       "0  -1.359021         -0.545236               -1.415875   0.401024  \n",
       "1   0.506124         -0.276545               -0.829100   0.401024  \n",
       "2   0.257438         -0.612408               -0.326149   0.401024  \n",
       "3  -0.177762         -0.881099               -0.493799   0.401024  \n",
       "4  -0.177762         -0.881099               -0.493799   0.401024  \n",
       "\n",
       "[5 rows x 29 columns]"
      ]
     },
     "execution_count": 16,
     "metadata": {},
     "output_type": "execute_result"
    }
   ],
   "source": [
    "df.head()"
   ]
  },
  {
   "cell_type": "markdown",
   "metadata": {},
   "source": [
    "## Implementação do modelo\n",
    "\n",
    "Utilizaremos o modelo de árvores de decisão para resolver este desafio. Ele é um modelo não paramétrico de classificação e que aprende algumas regras de decisão a partir dos dados inputados no mesmo. Entre suas vantagens estão:\n",
    "\n",
    "* Facilidade de interpretação (é possível explicar cenários usando lógica booleana)\n",
    "* Capaz de lidar com um problema de multi classes como o deste desafio\n",
    "\n",
    "Um grande trade-off desse modelo é a possibilidade de criar árvores demasiadamente complexas e que podem criar _overfitting_. Para evitar que isso aconteça, vamos desenhar as curvas de aprendizado de diferentes árvores treinadas e variando a altura da mesma (`max_depth`). \n",
    "\n",
    "Ademais, usaremos **_information gain_** como métrica de custo na criação da árvore. Basicamente ela usa o decaimento da entropia (medida de homogeneidade de um conjunto de dados) para selecionar a melhor quebra dos dados em uma _feature_. Como métrica de avaliação da qualidade do modelo, usaremos como **métrica principal  a acurácia**, que nos indicará o percentual dos exemplos que classificamos corretamente, e também usaremos as **métricas de precisão e _recall_ como secundárias** a fim de identificar potenciais viéses do modelo. \n",
    "\n",
    "### Seleção de features\n",
    "\n",
    "Vamos listar abaixo algumas formas de selecionar as melhores features para o modelo:\n",
    "\n",
    "* Conhecimento de contexto: consiste em usar o conhecimento de negócio existente para remover _features_ que não sejam relevantes ou que não possam ser usadas por questões como regulamentação ou estratégia de negócio. \n",
    "* Métodos de filtragem: são usados geralmente como etapas de pré processamento dos dados e não dependem de algoritmos de aprendizado de máquina específicos. As _features_ são selecionadas a partir de testes estatísticos relevantes.\n",
    "* Métodos _wrapper_: consiste em usar um subconjunto de _features_ para treinar e testar o modelo e, dependendo dos resultados deste modelo, é decidido pela adição ou remoção das _features_. Basicamente se trata de um problema de busca.\n",
    "\n",
    "Neste problema, usaremos os testes estatísticos das seções anteriores para decidir que _features_ remover. A partir do que foi exposto na seção de anális exploratória, vimos que a variável `residual_sugar` tem um correlação muito baixa com qualidade (próxima de zero), logo não a usaremos em nosso modelo. \n",
    "\n",
    "O código abaixo seleciona apenas as _features_ relevantes para o modelo."
   ]
  },
  {
   "cell_type": "code",
   "execution_count": 17,
   "metadata": {},
   "outputs": [],
   "source": [
    "features_cols = [c for c in df.columns if \"_scaled\" in c and \"residual_sugar\" not in c] + [\"type_tmcm\"]\n",
    "output_col = 'quality_encoded'\n",
    "\n",
    "X = df[features_cols]\n",
    "y = df[output_col]"
   ]
  },
  {
   "cell_type": "markdown",
   "metadata": {},
   "source": [
    "### Tratando desbalanceamento\n",
    "\n",
    "Como citado anteriormente, as classes do dataset estão muito desbalanceadas. Para que o modelo respeite isso precisamos fazer a divisão dos dados em treino e teste de acordo com essa proporção entre as classes. Para isso, o sk-learn oferece o atributo `stratify`, que faz essa segmentação. "
   ]
  },
  {
   "cell_type": "code",
   "execution_count": 18,
   "metadata": {},
   "outputs": [],
   "source": [
    "X_train, X_test, y_train, y_test = train_test_split(X, y, test_size=.25, stratify=y)"
   ]
  },
  {
   "cell_type": "markdown",
   "metadata": {},
   "source": [
    "### Modelo na prática\n",
    "\n",
    "A partir das curvas de aprendizado abaixo percebe-se que os modelos com `max_depth > 10` começar a ter comportamento de _overfitting_, pois as curvas perdem sua convergência. Por outro lado, os modelos com `max_depth <= 7` apresentar bons resultados com número menor de amostras, com uma atenção especial para `max_depth = 7`, que demora mais para ter uma convergência, porém se estabiliza em torno de `0.8`. "
   ]
  },
  {
   "cell_type": "code",
   "execution_count": 19,
   "metadata": {},
   "outputs": [
    {
     "data": {
      "image/png": "[encoded data removed]",
      "text/plain": [
       "<Figure size 864x504 with 2 Axes>"
      ]
     },
     "metadata": {
      "needs_background": "light"
     },
     "output_type": "display_data"
    },
    {
     "data": {
      "image/png": "[encoded data removed]",
      "text/plain": [
       "<Figure size 864x504 with 2 Axes>"
      ]
     },
     "metadata": {
      "needs_background": "light"
     },
     "output_type": "display_data"
    }
   ],
   "source": [
    "title = \"Learning Performances (Decision Tree)\"\n",
    "# Cross validation with 100 iterations to get smoother mean test and train\n",
    "# score curves, each time with 25% data randomly selected as a validation set.\n",
    "cv = ShuffleSplit(n_splits=10, test_size=0.25, random_state=42)\n",
    "\n",
    "helper.plot_learning_curve(title, X_train, y_train, ylim=(0.7, 1.01), cv=cv, n_jobs=4, max_depths=[5, 7], \n",
    "                           subset=False, scoring_metric='accuracy')\n",
    "helper.plot_learning_curve(title, X_train, y_train, ylim=(0.7, 1.01), cv=cv, n_jobs=4, max_depths=[10, 15], \n",
    "                           subset=False, scoring_metric='accuracy')"
   ]
  },
  {
   "cell_type": "markdown",
   "metadata": {},
   "source": [
    "A partir das curvas de aprendizado não fica claro qual o melhor valor para o parâmetro `max_depth` que otimiza os resultados do modelo. Para responder essa questão o gráfico com as curvas de validação foi desenhado abaixo. A partir do mesmo, percebe-se que o valor mais adequado é `5`, pois a partir desse ponto o modelo começa a ter overfitting o que pode ser percebido pela queda na acurácia da curva de validação. "
   ]
  },
  {
   "cell_type": "code",
   "execution_count": 20,
   "metadata": {},
   "outputs": [
    {
     "data": {
      "image/png": "[encoded data removed]",
      "text/plain": [
       "<Figure size 720x360 with 1 Axes>"
      ]
     },
     "metadata": {
      "needs_background": "light"
     },
     "output_type": "display_data"
    }
   ],
   "source": [
    "helper.plot_model_complexity(X_train, y_train)"
   ]
  },
  {
   "cell_type": "markdown",
   "metadata": {},
   "source": [
    "Agora, o código abaixo realiza a implementação do modelo com os parâmetros adequados e obtém uma **acurácia de 75%**. Ao observar a matriz de confusão, nota-se que o modelo é, de certa forma, otimista em relação a qualidade do vinho, pois classifica a maioria como positivo. Isso também pode ser efeito do desbalanceamento do dataset. \n",
    "\n",
    "A **precisão do modelo, 85%** e o **recall do mesmo, 78%**, corroboram com as observações anteriores e indicam que o modelo é bom para identificar vinhos da categoria _Good_. Por fim, temos um valor bom de **AUC, 0.81**, que também atesta a boa qualidade do modelo desenvolvido. "
   ]
  },
  {
   "cell_type": "code",
   "execution_count": 19,
   "metadata": {},
   "outputs": [],
   "source": [
    "clf = tree.DecisionTreeClassifier(max_depth=5, criterion=\"entropy\")\n",
    "clf = clf.fit(X_train, y_train)\n",
    "y_pred_proba = clf.predict_proba(X_test)[:,1]\n",
    "y_pred = clf.predict(X_test)"
   ]
  },
  {
   "cell_type": "code",
   "execution_count": 21,
   "metadata": {},
   "outputs": [
    {
     "data": {
      "image/png": "[encoded data removed]",
      "text/plain": [
       "<Figure size 432x288 with 2 Axes>"
      ]
     },
     "metadata": {
      "needs_background": "light"
     },
     "output_type": "display_data"
    }
   ],
   "source": [
    "cnf_matrix = confusion_matrix(y_test, y_pred)\n",
    "helper.plot_confusion_matrix(cnf_matrix, classes=[0, 1], title='Matriz de confusao')"
   ]
  },
  {
   "cell_type": "code",
   "execution_count": 21,
   "metadata": {},
   "outputs": [
    {
     "name": "stdout",
     "output_type": "stream",
     "text": [
      "ROC AUC: 0.81\n"
     ]
    },
    {
     "data": {
      "image/png": "[encoded data removed]",
      "text/plain": [
       "<Figure size 432x288 with 1 Axes>"
      ]
     },
     "metadata": {
      "needs_background": "light"
     },
     "output_type": "display_data"
    },
    {
     "name": "stdout",
     "output_type": "stream",
     "text": [
      "Acurácia do modelo: 0.750464396285\n",
      "Precisão do modelo: 0.813387423935\n",
      "Recall do modelo: 0.785504407444\n"
     ]
    }
   ],
   "source": [
    "helper.plot_roc_curve(y_test, y_pred_proba)\n",
    "\n",
    "print(\"Acurácia do modelo: {}\".format(accuracy_score(y_test, y_pred)))\n",
    "print(\"Precisão do modelo: {}\".format(precision_score(y_test, y_pred)))\n",
    "print(\"Recall do modelo: {}\".format(recall_score(y_test, y_pred)))"
   ]
  },
  {
   "cell_type": "markdown",
   "metadata": {},
   "source": [
    "## Features mais relevantes\n",
    "\n",
    "Uma das vantagens do algoritmo de árvore de decisão é que ele faz o rankeamento das features mais importantes de acordo com o information gain relacionado a elas. O código abaixo mostra as 5 features mais relevantes para o modelo bem como o valor de sua importância. \n",
    "\n",
    "É interessante notar que a variável `free_sulfur_dioxide_scaled`, que apresentou baixa correlação com a variável `quality_encoded` quando avaliada na seção de Análise Exploratória, é a quarta _feature_ mais importante do modelo e anteriormente a identificamos como candidata a ser removida. "
   ]
  },
  {
   "cell_type": "code",
   "execution_count": 32,
   "metadata": {},
   "outputs": [
    {
     "name": "stdout",
     "output_type": "stream",
     "text": [
      "Feature: alcohol_numeric_scaled         => Importância: 0.55\n",
      "Feature: volatile_acidity_scaled        => Importância: 0.25\n",
      "Feature: sulphates_scaled               => Importância: 0.08\n",
      "Feature: free_sulfur_dioxide_scaled     => Importância: 0.05\n",
      "Feature: ph_scaled                      => Importância: 0.03\n"
     ]
    }
   ],
   "source": [
    "importance_dict = {}\n",
    "for name, importance in zip(X.columns, clf.feature_importances_):\n",
    "    importance_dict[name] = importance\n",
    "\n",
    "for w in sorted(importance_dict, key=importance_dict.get, reverse=True)[0:5]:\n",
    "    print(\"Feature: {:30} => Importância: {:4.2f}\".format(w, importance_dict[w]))"
   ]
  },
  {
   "cell_type": "markdown",
   "metadata": {},
   "source": [
    "## Variantes da resolução\n",
    "\n",
    "Nesta seção vamos explorar três variações na solução proposta e observaremos como a métrica principal e as secundárias reagem. Estas variações são:\n",
    "\n",
    "* Usar método automatizado de _feature selection_\n",
    "* Aplicar _undersampling_ para tratar desbalaceamento de classes\n",
    "* Usar outro algoritmo de classificação"
   ]
  },
  {
   "cell_type": "markdown",
   "metadata": {},
   "source": [
    "### Método automatizado de _feature selection_\n",
    "\n",
    "Usaremos o método `SelectKBest` presente no sk-learn e vamos escolher `k=7` arbitrariamente neste estudo. Esse método usa por padrão o **teste ANOVA F-value** (`f_classif`) para selecionar as melhores variáveis. Ele examina se, quando nós agrupamos uma _feature_ numérica de acordo com a variável de destino, as médias de cada grupo são significativamente diferentes.\n",
    "\n",
    "A curva de complexidade mostra que o melhor valor de `max_depth` é 5. Após implementação do modelo nota-se que houve uma diminuição nos valores de acurácia e precisão mas o _recall_ aumentou levemente. Uma possível melhoria no mesmo é variar os valores de `k` para selecionar diferentes quantidades de _features_."
   ]
  },
  {
   "cell_type": "code",
   "execution_count": 36,
   "metadata": {},
   "outputs": [
    {
     "data": {
      "image/png": "[encoded data removed]",
      "text/plain": [
       "<Figure size 720x360 with 1 Axes>"
      ]
     },
     "metadata": {
      "needs_background": "light"
     },
     "output_type": "display_data"
    }
   ],
   "source": [
    "features_cols = [c for c in df.columns if \"_scaled\" in c] + [\"type_tmcm\"]\n",
    "output_col = 'quality_encoded'\n",
    "\n",
    "X = df[features_cols]\n",
    "y = df[output_col]\n",
    "\n",
    "selector = SelectKBest(f_classif, k=7)\n",
    "X_new = selector.fit_transform(X, y)\n",
    "X_train, X_test, y_train, y_test = train_test_split(X_new, y, test_size=.25, stratify=y)\n",
    "helper.plot_model_complexity(X_train, y_train)"
   ]
  },
  {
   "cell_type": "code",
   "execution_count": 37,
   "metadata": {},
   "outputs": [
    {
     "name": "stdout",
     "output_type": "stream",
     "text": [
      "Acurácia do modelo: 0.724458204334\n",
      "Precisão do modelo: 0.767657992565\n",
      "Recall do modelo: 0.809010773751\n"
     ]
    }
   ],
   "source": [
    "clf = tree.DecisionTreeClassifier(max_depth=5, criterion=\"entropy\")\n",
    "clf = clf.fit(X_train, y_train)\n",
    "y_pred_proba = clf.predict_proba(X_test)[:,1]\n",
    "y_pred = clf.predict(X_test)\n",
    "\n",
    "print(\"Acurácia do modelo: {}\".format(accuracy_score(y_test, y_pred)))\n",
    "print(\"Precisão do modelo: {}\".format(precision_score(y_test, y_pred)))\n",
    "print(\"Recall do modelo: {}\".format(recall_score(y_test, y_pred)))"
   ]
  },
  {
   "cell_type": "markdown",
   "metadata": {},
   "source": [
    "### Undersampling na classe _Good_\n",
    "\n",
    "O código abaixo reduz a quantidade de exemplos de vinhos bons para que se assemelhe aos ruins. O resultado apresentado abaixo mostra que o _recall_ do modelo foi bastante reduzido através desse método. Isso pode ser um efeito aleatório da segmentação dos dados em treino e teste. Mas é relevante citar que a acurácia diminuiu, mas não de forma significativa, o que mostra que o desbalanceamento do dataset não é um fator chave para aumentarmos a precisão do modelo. "
   ]
  },
  {
   "cell_type": "code",
   "execution_count": 47,
   "metadata": {},
   "outputs": [
    {
     "data": {
      "image/png": "[encoded data removed]",
      "text/plain": [
       "<Figure size 720x360 with 1 Axes>"
      ]
     },
     "metadata": {
      "needs_background": "light"
     },
     "output_type": "display_data"
    }
   ],
   "source": [
    "neg_cases = df[df[\"quality_encoded\"] == 0]\n",
    "pos_cases = df[df[\"quality_encoded\"] == 1]\n",
    "\n",
    "pos_cases = pos_cases.sample(n=neg_cases.shape[0])\n",
    "\n",
    "df_new = pd.concat([neg_cases, pos_cases])\n",
    "\n",
    "features_cols = [c for c in df_new.columns if \"_scaled\" in c] + [\"type_tmcm\"]\n",
    "output_col = 'quality_encoded'\n",
    "\n",
    "X = df_new[features_cols]\n",
    "y = df_new[output_col]\n",
    "\n",
    "X_train, X_test, y_train, y_test = train_test_split(X, y, test_size=.25)\n",
    "helper.plot_model_complexity(X_train, y_train)"
   ]
  },
  {
   "cell_type": "code",
   "execution_count": 48,
   "metadata": {},
   "outputs": [
    {
     "name": "stdout",
     "output_type": "stream",
     "text": [
      "Acurácia do modelo: 0.713804713805\n",
      "Precisão do modelo: 0.762295081967\n",
      "Recall do modelo: 0.624161073826\n"
     ]
    }
   ],
   "source": [
    "clf = tree.DecisionTreeClassifier(max_depth=5, criterion=\"entropy\")\n",
    "clf = clf.fit(X_train, y_train)\n",
    "y_pred_proba = clf.predict_proba(X_test)[:,1]\n",
    "y_pred = clf.predict(X_test)\n",
    "\n",
    "print(\"Acurácia do modelo: {}\".format(accuracy_score(y_test, y_pred)))\n",
    "print(\"Precisão do modelo: {}\".format(precision_score(y_test, y_pred)))\n",
    "print(\"Recall do modelo: {}\".format(recall_score(y_test, y_pred)))"
   ]
  },
  {
   "cell_type": "markdown",
   "metadata": {},
   "source": [
    "### Aplicando outro algoritmo\n",
    "\n",
    "Escolhemos o algoritmo _Support Vector Machines_, que divide os dados utilizando o melhor hiperplano possível e tem como âncoras para definição deste os _support vectors_, que são os pontos mais próximos ao plano. É um algoritmo muito poderoso mas, por ser paramétrico, precisaremos usar o _GridSearch_ para determinar quais os melhores valores de `C`, `kernel` e `gamma` do modelo. \n",
    "\n",
    "O código abaixo mostra que o modelo conseguiu elevar significativamente o _recall_ da classificação, apesar de não alterar muito o valor da acurácia. Já a precisão se manteve semelhante à vista nas demais variantes. "
   ]
  },
  {
   "cell_type": "code",
   "execution_count": 50,
   "metadata": {},
   "outputs": [
    {
     "name": "stdout",
     "output_type": "stream",
     "text": [
      "Acurácia do modelo: 0.741176470588\n",
      "Precisão do modelo: 0.766107678729\n",
      "Recall do modelo: 0.850146914789\n"
     ]
    }
   ],
   "source": [
    "features_cols = [c for c in df.columns if \"_scaled\" in c and \"residual_sugar\" not in c] + [\"type_tmcm\"]\n",
    "output_col = 'quality_encoded'\n",
    "\n",
    "X = df[features_cols]\n",
    "y = df[output_col]\n",
    "\n",
    "X_train, X_test, y_train, y_test = train_test_split(X, y, test_size=.25, stratify=y)\n",
    "\n",
    "param_grid = [\n",
    "    {'C': [1, 10, 100, 1000], 'kernel': ['linear', 'rbf'], 'gamma': [0.001, 0.0001]},\n",
    "]\n",
    "svc = SVC()\n",
    "clf = GridSearchCV(svc, param_grid, cv=5)\n",
    "clf.fit(X_train, y_train)\n",
    "y_pred = clf.predict(X_test)\n",
    "print(\"Acurácia do modelo: {}\".format(accuracy_score(y_test, y_pred)))\n",
    "print(\"Precisão do modelo: {}\".format(precision_score(y_test, y_pred)))\n",
    "print(\"Recall do modelo: {}\".format(recall_score(y_test, y_pred)))"
   ]
  },
  {
   "cell_type": "markdown",
   "metadata": {},
   "source": [
    "## Conclusões\n",
    "\n",
    "Neste projeto foi implementado um modelo de árvore de decisão para predizer a qualidade de vinhos. A qualidade dos vinhos apresentou uma distribuição normal e também continha pouquíssimos exemplos com qualidade muito boa ou muito ruim. Para lidar com isso, optou-se por tornar o problema numa classificação binária. \n",
    "\n",
    "Também usamos uma técnica baseada na teoria de co-ocorrência para criar valores numéricos apropriados para _features_ categóricas do dataset. Implementamos um modelo de árvore de decisão que apresentou acurácia de cerca de 75%. Por fim, exploramos algumas variantes da solução proposta para averiguar se as métricas dos modelos melhorariam.\n",
    "\n",
    "Para trabalhos futuros, vislumbram-se as seguintes possibilidades:\n",
    "\n",
    "* Explorar outros algoritmos de classificação\n",
    "* Aplicar a técnica de 1-of-K Coding para lidar com a variável categórica `type`\n",
    "* Utilizar a técnica de _oversampling_ para tratar melhor os dados\n",
    "* Tentar adquirir mais dados amostras para o dataset, principalmente de vinhos muito bons e muito ruins para que, a partir deles seja possível desenvolver um classificador multi-classe confiável. \n",
    "\n",
    "## [Referências](#references)\n",
    "\n",
    "[1] How to calculate Chi Square Test for Independence (two way) - https://www.youtube.com/watch?v=xEiQn6sGM20\n",
    "\n",
    "[2] Correlação de postos de Spearman - https://pt.wikipedia.org/wiki/Coeficiente_de_correla%C3%A7%C3%A3o_de_postos_de_Spearman\n",
    "\n",
    "[3] Spearman Correlation - https://www.youtube.com/watch?v=YpG2MlulP_o\n",
    "\n",
    "[4] Standard Scaler - https://scikit-learn.org/stable/modules/generated/sklearn.preprocessing.StandardScaler.html\n",
    "\n",
    "[5] Wang, Fei & Franco, Hector & Pugh, John & Ross, Robert. (2016). Empirical Comparative Analysis of 1-of-K Coding and K-Prototypes in Categorical Clustering.\n",
    "\n",
    "[6] A Two-Step Method for Clustering Mixed Categroical and Numeric Data"
   ]
  }
 ],
 "metadata": {
  "kernelspec": {
   "display_name": "Python 2",
   "language": "python",
   "name": "python2"
  },
  "language_info": {
   "codemirror_mode": {
    "name": "ipython",
    "version": 2
   },
   "file_extension": ".py",
   "mimetype": "text/x-python",
   "name": "python",
   "nbconvert_exporter": "python",
   "pygments_lexer": "ipython2",
   "version": "2.7.15rc1"
  }
 },
 "nbformat": 4,
 "nbformat_minor": 2
}
